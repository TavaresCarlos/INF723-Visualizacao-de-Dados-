{
 "cells": [
  {
   "cell_type": "code",
   "execution_count": 58,
   "id": "e560471f-5650-47ea-a91a-f3a289918957",
   "metadata": {},
   "outputs": [],
   "source": [
    "import pandas as pd\n",
    "import numpy as np\n",
    "import matplotlib.pyplot as plt"
   ]
  },
  {
   "cell_type": "code",
   "execution_count": 59,
   "id": "14fd33ba-8768-4aaa-816a-893575fba1ff",
   "metadata": {},
   "outputs": [
    {
     "data": {
      "text/html": [
       "<div>\n",
       "<style scoped>\n",
       "    .dataframe tbody tr th:only-of-type {\n",
       "        vertical-align: middle;\n",
       "    }\n",
       "\n",
       "    .dataframe tbody tr th {\n",
       "        vertical-align: top;\n",
       "    }\n",
       "\n",
       "    .dataframe thead th {\n",
       "        text-align: right;\n",
       "    }\n",
       "</style>\n",
       "<table border=\"1\" class=\"dataframe\">\n",
       "  <thead>\n",
       "    <tr style=\"text-align: right;\">\n",
       "      <th></th>\n",
       "      <th>Date/Time</th>\n",
       "      <th>LV ActivePower (kW)</th>\n",
       "      <th>Wind Speed (m/s)</th>\n",
       "      <th>Theoretical_Power_Curve (KWh)</th>\n",
       "      <th>Wind Direction (°)</th>\n",
       "    </tr>\n",
       "  </thead>\n",
       "  <tbody>\n",
       "    <tr>\n",
       "      <th>0</th>\n",
       "      <td>01 01 2018 00:00</td>\n",
       "      <td>380.047791</td>\n",
       "      <td>5.311336</td>\n",
       "      <td>416.328908</td>\n",
       "      <td>259.994904</td>\n",
       "    </tr>\n",
       "    <tr>\n",
       "      <th>1</th>\n",
       "      <td>01 01 2018 00:10</td>\n",
       "      <td>453.769196</td>\n",
       "      <td>5.672167</td>\n",
       "      <td>519.917511</td>\n",
       "      <td>268.641113</td>\n",
       "    </tr>\n",
       "    <tr>\n",
       "      <th>2</th>\n",
       "      <td>01 01 2018 00:20</td>\n",
       "      <td>306.376587</td>\n",
       "      <td>5.216037</td>\n",
       "      <td>390.900016</td>\n",
       "      <td>272.564789</td>\n",
       "    </tr>\n",
       "    <tr>\n",
       "      <th>3</th>\n",
       "      <td>01 01 2018 00:30</td>\n",
       "      <td>419.645905</td>\n",
       "      <td>5.659674</td>\n",
       "      <td>516.127569</td>\n",
       "      <td>271.258087</td>\n",
       "    </tr>\n",
       "    <tr>\n",
       "      <th>4</th>\n",
       "      <td>01 01 2018 00:40</td>\n",
       "      <td>380.650696</td>\n",
       "      <td>5.577941</td>\n",
       "      <td>491.702972</td>\n",
       "      <td>265.674286</td>\n",
       "    </tr>\n",
       "  </tbody>\n",
       "</table>\n",
       "</div>"
      ],
      "text/plain": [
       "          Date/Time  LV ActivePower (kW)  Wind Speed (m/s)  \\\n",
       "0  01 01 2018 00:00           380.047791          5.311336   \n",
       "1  01 01 2018 00:10           453.769196          5.672167   \n",
       "2  01 01 2018 00:20           306.376587          5.216037   \n",
       "3  01 01 2018 00:30           419.645905          5.659674   \n",
       "4  01 01 2018 00:40           380.650696          5.577941   \n",
       "\n",
       "   Theoretical_Power_Curve (KWh)  Wind Direction (°)  \n",
       "0                     416.328908          259.994904  \n",
       "1                     519.917511          268.641113  \n",
       "2                     390.900016          272.564789  \n",
       "3                     516.127569          271.258087  \n",
       "4                     491.702972          265.674286  "
      ]
     },
     "execution_count": 59,
     "metadata": {},
     "output_type": "execute_result"
    }
   ],
   "source": [
    "df = pd.read_csv(\"./wind-data.csv\", sep=\",\")\n",
    "df.head()"
   ]
  },
  {
   "cell_type": "code",
   "execution_count": 62,
   "id": "ee3e4622-c41f-4eac-879f-488324fcabbf",
   "metadata": {},
   "outputs": [],
   "source": [
    "wd = df['Wind Direction (°)']\n",
    "rv = []\n",
    "\n",
    "for i in wd:\n",
    "    if i == 0 or i == 360:\n",
    "        rv.append(\"N\")\n",
    "    elif i == 90:\n",
    "        rv.append(\"L\")\n",
    "    elif i == 180:\n",
    "        rv.append(\"S\")\n",
    "    elif i == 270:\n",
    "        rv.append(\"O\")\n",
    "    elif 0 < i < 90:\n",
    "        rv.append(i)\n",
    "    elif 90 < i < 180:\n",
    "        rv.append(\"SE\")\n",
    "    elif 180 < i < 270:\n",
    "        rv.append(\"SO\")\n",
    "    elif 270 < i < 360:\n",
    "        rv.append(\"NO\")\n",
    "        \n",
    "df['Direção'] = rv"
   ]
  },
  {
   "cell_type": "code",
   "execution_count": 63,
   "id": "1cbd06af-ff27-44e4-ba73-1200cfe40efd",
   "metadata": {},
   "outputs": [
    {
     "data": {
      "text/plain": [
       "'\\n#plt.plot(dif)\\nplt.plot(dif, \"o\")\\nplt.show()\\n'"
      ]
     },
     "execution_count": 63,
     "metadata": {},
     "output_type": "execute_result"
    }
   ],
   "source": [
    "ap = df['LV ActivePower (kW)']\n",
    "tpc = df['Theoretical_Power_Curve (KWh)']\n",
    "dif = []\n",
    "\n",
    "for i in range(len(df)):\n",
    "    r = tpc[i] - ap[i]\n",
    "    dif.append(r)\n",
    "    r = 0\n",
    "\n",
    "df['Teorico-Producao'] = dif\n",
    "'''\n",
    "#plt.plot(dif)\n",
    "plt.plot(dif, \"o\")\n",
    "plt.show()\n",
    "'''\n"
   ]
  },
  {
   "cell_type": "code",
   "execution_count": 64,
   "id": "3f10f8b6-150a-4c55-879f-7bc29f361ede",
   "metadata": {},
   "outputs": [
    {
     "name": "stdout",
     "output_type": "stream",
     "text": [
      "              Date/Time  LV ActivePower (kW)  Wind Speed (m/s)  \\\n",
      "0      01 01 2018 00:00           380.047791          5.311336   \n",
      "1      01 01 2018 00:10           453.769196          5.672167   \n",
      "2      01 01 2018 00:20           306.376587          5.216037   \n",
      "3      01 01 2018 00:30           419.645905          5.659674   \n",
      "4      01 01 2018 00:40           380.650696          5.577941   \n",
      "...                 ...                  ...               ...   \n",
      "50525  31 12 2018 23:10          2963.980957         11.404030   \n",
      "50526  31 12 2018 23:20          1684.353027          7.332648   \n",
      "50527  31 12 2018 23:30          2201.106934          8.435358   \n",
      "50528  31 12 2018 23:40          2515.694092          9.421366   \n",
      "50529  31 12 2018 23:50          2820.466064          9.979332   \n",
      "\n",
      "       Theoretical_Power_Curve (KWh)  Wind Direction (°)    Direção  \\\n",
      "0                         416.328908          259.994904         SO   \n",
      "1                         519.917511          268.641113         SO   \n",
      "2                         390.900016          272.564789         NO   \n",
      "3                         516.127569          271.258087         NO   \n",
      "4                         491.702972          265.674286         SO   \n",
      "...                              ...                 ...        ...   \n",
      "50525                    3397.190793           80.502724  80.502724   \n",
      "50526                    1173.055771           84.062599  84.062599   \n",
      "50527                    1788.284755           84.742500    84.7425   \n",
      "50528                    2418.382503           84.297913  84.297913   \n",
      "50529                    2779.184096           82.274620   82.27462   \n",
      "\n",
      "       Teorico-Producao  \n",
      "0             36.281117  \n",
      "1             66.148316  \n",
      "2             84.523429  \n",
      "3             96.481664  \n",
      "4            111.052276  \n",
      "...                 ...  \n",
      "50525        433.209835  \n",
      "50526       -511.297256  \n",
      "50527       -412.822178  \n",
      "50528        -97.311588  \n",
      "50529        -41.281968  \n",
      "\n",
      "[50530 rows x 7 columns]\n"
     ]
    }
   ],
   "source": [
    "print(df)"
   ]
  },
  {
   "cell_type": "code",
   "execution_count": null,
   "id": "6521176c-6e0f-4fe9-bec6-4be1e44d8fb1",
   "metadata": {},
   "outputs": [],
   "source": []
  }
 ],
 "metadata": {
  "kernelspec": {
   "display_name": "Python 3 (ipykernel)",
   "language": "python",
   "name": "python3"
  },
  "language_info": {
   "codemirror_mode": {
    "name": "ipython",
    "version": 3
   },
   "file_extension": ".py",
   "mimetype": "text/x-python",
   "name": "python",
   "nbconvert_exporter": "python",
   "pygments_lexer": "ipython3",
   "version": "3.11.5"
  }
 },
 "nbformat": 4,
 "nbformat_minor": 5
}
